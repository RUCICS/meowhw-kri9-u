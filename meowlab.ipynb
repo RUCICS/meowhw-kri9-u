{
 "cells": [
  {
   "cell_type": "markdown",
   "id": "c6175159",
   "metadata": {},
   "source": [
    "# MeowLab\n",
    "\n",
    "> cat可能是你最常用的命令行工具之一，但是可能很少有人会关注cat的性能问题。\n",
    "> \n",
    "> 但实际上，cat可能比你想的更加高效。在这个lab中，我们会一起来探索cat如此高效的秘密。"
   ]
  },
  {
   "cell_type": "markdown",
   "id": "ef876965",
   "metadata": {},
   "source": [
    "## 什么是cat\n",
    "\n",
    "对于大部分同学来说，这个问题有些太trivial了。但是以防万一，还是在这里介绍一下，cat是一个GNU coreutils中的一个程序，它的作用是连接(con**cat**enate)一系列文件，并将其输出到标准输出流(stdout)中。\n",
    "\n",
    "> 如果你愿意去找，你会发现这个lab中所有的代码都可以在GNU coreutils中找到，或者你用某个大模型，它可能也能写得不错。\n",
    "> 但是，除了写代码以外，这个lab中也会包含一些分析和讨论。因此即使你选择直接去抄GNU coreutils中的代码，也不要直接不加思考的复制粘贴。"
   ]
  },
  {
   "cell_type": "markdown",
   "id": "be33179e",
   "metadata": {},
   "source": [
    "## 环境要求\n",
    "\n",
    "* 操作系统：Linux（任何包含GNU coreutils的发行版）\n",
    "* 编译器：本lab允许使用C/C++或者Rust，选择你喜欢的任何编译器即可。\n",
    "* Python3.x：本lab一些地方需要你画图，推荐你使用matplotlib。另外，我们使用一个简单的脚本来生成测试文件。"
   ]
  },
  {
   "cell_type": "markdown",
   "id": "c6d3e510",
   "metadata": {},
   "source": [
    "## 在开始之前\n",
    "\n",
    "这个项目的所有代码需要你自己动手来写，我们只提供了一个用于生成测试文件的脚本。\n",
    "\n",
    "为了展示比较明显的测试效果，我们会生成一个2GB的测试文件，请确保你的磁盘拥有足够的空间。你可以运行下面这个单元格来查看你的电脑是否有足够的空间。这里我们使用了`df`命令，这个命令的作用是查看某个文件系统所在的磁盘的使用量。"
   ]
  },
  {
   "cell_type": "code",
   "execution_count": 1,
   "id": "14021422",
   "metadata": {},
   "outputs": [
    {
     "name": "stderr",
     "output_type": "stream",
     "text": [
      "\u0000/e\u0001c \u0000l\u0000o\u0000c\u0000a\u0000l\u0000h\u0000o\u0000s\u0000t\u0000 \u0000�N\u0006t\u00020\u0000t\u0000 \u0000�N\u0006tM�n\f�FO*g\\��P0R \u0000W\u0000S\u0000L\u0000\u00020N\u0000A\u0000T\u0000 \u0000!j\u000f_\u000bN�v \u0000W\u0000S\u0000L\u0000 \u0000\n"
     ]
    },
    {
     "name": "stdout",
     "output_type": "stream",
     "text": [
      "Filesystem      Size  Used Avail Use% Mounted on\n",
      "/dev/sdd       1007G  4.9G  951G   1% /\n",
      "Disk space is sufficient: 951G\n"
     ]
    },
    {
     "name": "stderr",
     "output_type": "stream",
     "text": [
      "\u0000"
     ]
    }
   ],
   "source": [
    "%%bash\n",
    "df -h /\n",
    "\n",
    "avail=$(df -h / | awk 'NR==2 {print $4}' | grep -o '[0-9.]*')\n",
    "unit=$(df -h / | awk 'NR==2 {print $4}' | grep -o '[a-zA-Z]*')\n",
    "if [[ \"$unit\" == \"M\" || \"$unit\" == \"K\" ]]; then\n",
    "    echo \"Disk space is low: $avail$unit\"\n",
    "elif [[ \"$unit\" == \"T\" ]]; then\n",
    "    echo \"Disk space is sufficient: $avail$unit\"\n",
    "elif [[ \"$unit\" == \"G\" ]]; then\n",
    "    if (( $(echo \"$avail < 10\" | bc -l) )); then\n",
    "        echo \"Disk space is low: $avail$unit\"\n",
    "    else\n",
    "        echo \"Disk space is sufficient: $avail$unit\"\n",
    "    fi\n",
    "else\n",
    "    echo \"Unknown unit: $unit\"\n",
    "fi\n"
   ]
  },
  {
   "cell_type": "markdown",
   "id": "64cc6804",
   "metadata": {},
   "source": [
    "你可以使用我们提供的python脚本来生成测试文件，运行下面的单元格。测试文件的生成可能会花费一定的时间。"
   ]
  },
  {
   "cell_type": "code",
   "execution_count": 2,
   "id": "8ead0359",
   "metadata": {},
   "outputs": [],
   "source": [
    "import random\n",
    "\n",
    "MB = 1024 * 1024\n",
    "\n",
    "# A static seed for reproducibility\n",
    "random.seed(42)\n",
    "\n",
    "with open(\"test.txt\", \"wb\") as f:\n",
    "    for _ in range(2048):\n",
    "        f.write(random.randbytes(1 * MB)) # 1MB of random data"
   ]
  },
  {
   "cell_type": "markdown",
   "id": "a0017028",
   "metadata": {},
   "source": [
    "当前文件夹下面会出现一个大小为2GB的文件`test.txt`。你可以运行下面的单元格来验证。"
   ]
  },
  {
   "cell_type": "code",
   "execution_count": 3,
   "id": "a4bd4bd0",
   "metadata": {},
   "outputs": [
    {
     "name": "stderr",
     "output_type": "stream",
     "text": [
      "\u0000/e\u0001c \u0000l\u0000o\u0000c\u0000a\u0000l\u0000h\u0000o\u0000s\u0000t\u0000 \u0000�N\u0006t\u00020\u0000t\u0000 \u0000�N\u0006tM�n\f�FO*g\\��P0R \u0000W\u0000S\u0000L\u0000\u00020N\u0000A\u0000T\u0000 \u0000!j\u000f_\u000bN�v \u0000W\u0000S\u0000L\u0000 \u0000\n"
     ]
    },
    {
     "name": "stdout",
     "output_type": "stream",
     "text": [
      "-rwxrwxrwx 1 k k 2.0G  6月 17 16:15 test.txt\n"
     ]
    },
    {
     "name": "stderr",
     "output_type": "stream",
     "text": [
      "\u0000"
     ]
    }
   ],
   "source": [
    "%%bash\n",
    "ls -lh test.txt"
   ]
  },
  {
   "cell_type": "markdown",
   "id": "55fbac6a",
   "metadata": {},
   "source": [
    "最后，我们的lab会需要使用`hyperfine`来测量程序的运行时间。我们推荐你使用`cargo`进行安装。你可以从[Rust官网](https://www.rust-lang.org/zh-CN/learn/get-started)找到安装脚本。如果你的电脑已经安装好了`cargo`，你可以运行下面的单元格来安装`hyperfine`。"
   ]
  },
  {
   "cell_type": "code",
   "execution_count": 6,
   "id": "77f0165a",
   "metadata": {},
   "outputs": [
    {
     "name": "stderr",
     "output_type": "stream",
     "text": [
      "\u0000/e\u0001c \u0000l\u0000o\u0000c\u0000a\u0000l\u0000h\u0000o\u0000s\u0000t\u0000 \u0000�N\u0006t\u00020\u0000t\u0000 \u0000�N\u0006tM�n\f�FO*g\\��P0R \u0000W\u0000S\u0000L\u0000\u00020N\u0000A\u0000T\u0000 \u0000!j\u000f_\u000bN�v \u0000W\u0000S\u0000L\u0000 \u0000\n",
      "\u0000    Updating crates.io index\n",
      " Downloading crates ...\n",
      "  Downloaded hyperfine v1.19.0\n",
      "  Installing hyperfine v1.19.0\n",
      "    Updating crates.io index\n",
      "     Locking 137 packages to latest compatible versions\n",
      "      Adding colored v2.2.0 (available: v3.0.0)\n",
      "      Adding indicatif v0.17.4 (available: v0.17.11)\n",
      "      Adding nix v0.29.0 (available: v0.30.1)\n",
      "      Adding rand v0.8.5 (available: v0.9.1)\n",
      "      Adding windows-sys v0.59.0 (available: v0.60.2)\n",
      " Downloading crates ...\n",
      "  Downloaded ptr_meta_derive v0.1.4\n",
      "  Downloaded wyz v0.5.1\n",
      "  Downloaded uuid v1.17.0\n",
      "  Downloaded winnow v0.7.11\n",
      "  Downloaded statistical v1.0.0\n",
      "  Downloaded zerocopy v0.8.25\n",
      "  Downloaded cfg_aliases v0.2.1\n",
      "  Downloaded bytecheck_derive v0.6.12\n",
      "  Downloaded autocfg v0.1.8\n",
      "  Downloaded ptr_meta v0.1.4\n",
      "  Downloaded tinyvec_macros v0.1.1\n",
      "  Downloaded equivalent v1.0.2\n",
      "  Downloaded number_prefix v0.4.0\n",
      "  Downloaded anstyle-query v1.1.3\n",
      "  Downloaded is_terminal_polyfill v1.70.1\n",
      "  Downloaded funty v2.0.0\n",
      "  Downloaded rand_hc v0.1.0\n",
      "  Downloaded cfg-if v1.0.1\n",
      "  Downloaded bytecheck v0.6.12\n",
      "  Downloaded num v0.2.1\n",
      "  Downloaded colorchoice v1.0.4\n",
      "  Downloaded rend v0.4.2\n",
      "  Downloaded rand_xorshift v0.1.1\n",
      "  Downloaded rand_pcg v0.1.2\n",
      "  Downloaded shell-words v1.1.0\n",
      "  Downloaded terminal_size v0.4.2\n",
      "  Downloaded tap v1.0.1\n",
      "  Downloaded strsim v0.11.1\n",
      "  Downloaded clap_lex v0.7.5\n",
      "  Downloaded num-iter v0.1.45\n",
      "  Downloaded proc-macro-crate v3.3.0\n",
      "  Downloaded rand_chacha v0.1.1\n",
      "  Downloaded itoa v1.0.15\n",
      "  Downloaded radium v0.7.0\n",
      "  Downloaded errno v0.3.12\n",
      "  Downloaded lazy_static v1.5.0\n",
      "  Downloaded rand_chacha v0.3.1\n",
      "  Downloaded anstyle v1.0.11\n",
      "  Downloaded rand_core v0.3.1\n",
      "  Downloaded rand_isaac v0.1.1\n",
      "  Downloaded toml_datetime v0.6.11\n",
      "  Downloaded rand_os v0.1.3\n",
      "  Downloaded version_check v0.9.5\n",
      "  Downloaded anstyle-parse v0.2.7\n",
      "  Downloaded ppv-lite86 v0.2.21\n",
      "  Downloaded thiserror-impl v2.0.12\n",
      "  Downloaded utf8parse v0.2.2\n",
      "  Downloaded autocfg v1.4.0\n",
      "  Downloaded num-integer v0.1.46\n",
      "  Downloaded num-complex v0.2.4\n",
      "  Downloaded rand_jitter v0.1.4\n",
      "  Downloaded rkyv_derive v0.7.45\n",
      "  Downloaded rand_core v0.6.4\n",
      "  Downloaded borsh-derive v1.5.7\n",
      "  Downloaded num-rational v0.2.4\n",
      "  Downloaded simdutf8 v0.1.5\n",
      "  Downloaded rand_core v0.4.2\n",
      "  Downloaded csv-core v0.1.12\n",
      "  Downloaded arrayvec v0.7.6\n",
      "  Downloaded ahash v0.7.8\n",
      "  Downloaded thiserror v2.0.12\n",
      "  Downloaded quote v1.0.40\n",
      "  Downloaded seahash v4.1.0\n",
      "  Downloaded anstream v0.6.19\n",
      "  Downloaded once_cell v1.21.3\n",
      "  Downloaded console v0.15.11\n",
      "  Downloaded colored v2.2.0\n",
      "  Downloaded getrandom v0.2.16\n",
      "  Downloaded clap_complete v4.5.54\n",
      "  Downloaded unicode-ident v1.0.18\n",
      "  Downloaded tinyvec v1.9.0\n",
      "  Downloaded bitflags v2.9.1\n",
      "  Downloaded ryu v1.0.20\n",
      "  Downloaded clap v4.5.40\n",
      "  Downloaded proc-macro2 v1.0.95\n",
      "  Downloaded num-traits v0.2.19\n",
      "  Downloaded anyhow v1.0.98\n",
      "  Downloaded indicatif v0.17.4\n",
      "  Downloaded serde_derive v1.0.219\n",
      "  Downloaded bytes v1.10.1\n",
      "  Downloaded borsh v1.5.7\n",
      "  Downloaded toml_edit v0.22.27\n",
      "  Downloaded serde v1.0.219\n",
      "  Downloaded rand v0.8.5\n",
      "  Downloaded num-bigint v0.2.6\n",
      "  Downloaded memchr v2.7.5\n",
      "  Downloaded hashbrown v0.12.3\n",
      "  Downloaded indexmap v2.9.0\n",
      "  Downloaded rand v0.6.5\n",
      "  Downloaded rkyv v0.7.45\n",
      "  Downloaded hashbrown v0.15.4\n",
      "  Downloaded serde_json v1.0.140\n",
      "  Downloaded rust_decimal v1.37.2\n",
      "  Downloaded clap_builder v4.5.40\n",
      "  Downloaded portable-atomic v1.11.1\n",
      "  Downloaded bitvec v1.0.1\n",
      "  Downloaded syn v1.0.109\n",
      "  Downloaded unicode-width v0.1.14\n",
      "  Downloaded unicode-width v0.2.1\n",
      "  Downloaded syn v2.0.103\n",
      "  Downloaded nix v0.29.0\n",
      "  Downloaded rustix v1.0.7\n",
      "warning: spurious network error (3 tries remaining): [92] Stream error in the HTTP/2 framing layer (HTTP/2 stream 77 was not closed cleanly: PROTOCOL_ERROR (err 1))\n",
      "warning: spurious network error (3 tries remaining): [92] Stream error in the HTTP/2 framing layer (HTTP/2 stream 51 was not closed cleanly: PROTOCOL_ERROR (err 1))\n",
      "warning: spurious network error (3 tries remaining): [92] Stream error in the HTTP/2 framing layer (HTTP/2 stream 79 was not closed cleanly: PROTOCOL_ERROR (err 1))\n",
      "  Downloaded libc v0.2.173\n",
      "  Downloaded csv v1.3.1\n",
      "  Downloaded linux-raw-sys v0.9.4\n",
      "   Compiling autocfg v1.4.0\n",
      "   Compiling rustix v1.0.7\n",
      "   Compiling libc v0.2.173\n",
      "   Compiling proc-macro2 v1.0.95\n",
      "   Compiling rand_core v0.4.2\n",
      "   Compiling unicode-ident v1.0.18\n",
      "   Compiling utf8parse v0.2.2\n",
      "   Compiling linux-raw-sys v0.9.4\n",
      "   Compiling bitflags v2.9.1\n",
      "   Compiling colorchoice v1.0.4\n",
      "   Compiling is_terminal_polyfill v1.70.1\n",
      "   Compiling anstyle v1.0.11\n",
      "   Compiling anstyle-query v1.1.3\n",
      "   Compiling serde v1.0.219\n",
      "   Compiling zerocopy v0.8.25\n",
      "   Compiling strsim v0.11.1\n",
      "   Compiling clap_lex v0.7.5\n",
      "   Compiling cfg-if v1.0.1\n",
      "   Compiling anstyle-parse v0.2.7\n",
      "   Compiling cfg_aliases v0.2.1\n",
      "   Compiling portable-atomic v1.11.1\n",
      "   Compiling memchr v2.7.5\n",
      "   Compiling rand_core v0.3.1\n",
      "   Compiling rand_jitter v0.1.4\n",
      "   Compiling nix v0.29.0\n",
      "   Compiling autocfg v0.1.8\n",
      "   Compiling anstream v0.6.19\n",
      "   Compiling rand_xorshift v0.1.1\n",
      "   Compiling rand_isaac v0.1.1\n",
      "   Compiling rand_hc v0.1.0\n",
      "   Compiling anyhow v1.0.98\n",
      "   Compiling ryu v1.0.20\n",
      "   Compiling serde_json v1.0.140\n",
      "   Compiling unicode-width v0.2.1\n",
      "   Compiling num-traits v0.2.19\n",
      "   Compiling num-bigint v0.2.6\n",
      "   Compiling num-rational v0.2.4\n",
      "   Compiling rand_pcg v0.1.2\n",
      "   Compiling rand_chacha v0.1.1\n",
      "   Compiling num-complex v0.2.4\n",
      "   Compiling rand v0.6.5\n",
      "   Compiling thiserror v2.0.12\n",
      "   Compiling once_cell v1.21.3\n",
      "   Compiling itoa v1.0.15\n",
      "   Compiling rust_decimal v1.37.2\n",
      "   Compiling csv-core v0.1.12\n",
      "   Compiling arrayvec v0.7.6\n",
      "   Compiling lazy_static v1.5.0\n",
      "   Compiling number_prefix v0.4.0\n",
      "   Compiling unicode-width v0.1.14\n",
      "   Compiling colored v2.2.0\n",
      "   Compiling shell-words v1.1.0\n",
      "   Compiling quote v1.0.40\n",
      "   Compiling syn v2.0.103\n",
      "   Compiling terminal_size v0.4.2\n",
      "   Compiling clap_builder v4.5.40\n",
      "   Compiling num-integer v0.1.46\n",
      "   Compiling num-iter v0.1.45\n",
      "   Compiling getrandom v0.2.16\n",
      "   Compiling rand_os v0.1.3\n",
      "   Compiling console v0.15.11\n",
      "   Compiling rand_core v0.6.4\n",
      "   Compiling ppv-lite86 v0.2.21\n",
      "   Compiling indicatif v0.17.4\n",
      "   Compiling rand_chacha v0.3.1\n",
      "   Compiling rand v0.8.5\n",
      "   Compiling num v0.2.1\n",
      "   Compiling statistical v1.0.0\n",
      "   Compiling clap v4.5.40\n",
      "   Compiling clap_complete v4.5.54\n",
      "   Compiling hyperfine v1.19.0\n",
      "   Compiling serde_derive v1.0.219\n",
      "   Compiling thiserror-impl v2.0.12\n",
      "   Compiling csv v1.3.1\n",
      "    Finished `release` profile [optimized] target(s) in 20m 18s\n",
      "  Installing /home/k/.cargo/bin/hyperfine\n",
      "   Installed package `hyperfine v1.19.0` (executable `hyperfine`)\n"
     ]
    }
   ],
   "source": [
    "%%bash\n",
    "cargo install hyperfine"
   ]
  },
  {
   "cell_type": "markdown",
   "id": "45cefa6f",
   "metadata": {},
   "source": [
    "有了以上的准备工作，我们终于可以开始我们的探索之旅了。"
   ]
  },
  {
   "cell_type": "markdown",
   "id": "9c1afa63",
   "metadata": {},
   "source": [
    "## 任务0: 测量cat的效率\n",
    "\n",
    "你要做的第一个任务十分简单。学习一下如何使用`hyperfine`，并且使用它来测试GNU coreutils中的cat输出我们生成的测试文件`test.txt`的时间。运行下面的单元格来运行测试。"
   ]
  },
  {
   "cell_type": "code",
   "execution_count": 1,
   "id": "4af9a82b",
   "metadata": {},
   "outputs": [
    {
     "name": "stderr",
     "output_type": "stream",
     "text": [
      "\u0000/e\u0001c \u0000l\u0000o\u0000c\u0000a\u0000l\u0000h\u0000o\u0000s\u0000t\u0000 \u0000�N\u0006t\u00020\u0000t\u0000 \u0000�N\u0006tM�n\f�FO*g\\��P0R \u0000W\u0000S\u0000L\u0000\u00020N\u0000A\u0000T\u0000 \u0000!j\u000f_\u000bN�v \u0000W\u0000S\u0000L\u0000 \u0000\n"
     ]
    },
    {
     "name": "stdout",
     "output_type": "stream",
     "text": [
      "Benchmark 1: cat test.txt\n",
      "  Time (mean ± σ):     25.985 s ±  1.755 s    [User: 0.043 s, System: 1.008 s]\n",
      "  Range (min … max):   22.311 s … 27.699 s    10 runs\n",
      " \n"
     ]
    },
    {
     "name": "stderr",
     "output_type": "stream",
     "text": [
      "\u0000"
     ]
    }
   ],
   "source": [
    "%%bash\n",
    "hyperfine --warmup 3 'cat test.txt'"
   ]
  },
  {
   "cell_type": "markdown",
   "id": "cd94fe5a",
   "metadata": {},
   "source": [
    "## 任务1: 写一个最朴素的cat\n",
    "\n",
    "我们现在使用`hyperfine`测量了GNU coreutils中的`cat`的运行效率，但是对于这个运行时间，我们可能并没有什么概念。现在我们将会写一个最朴素的`cat`程序来作为baseline。这个程序需要满足一下要求：\n",
    "1. 把你的源代码命名为`mycat1.c`或者`mycat1.rs`，并且可执行的二进制文件命名为`mycat1`。\n",
    "2. 你的程序接受且只接受一个命令行参数，这个参数是你要读取的文件。\n",
    "3. 你的程序直接使用`read`和`write`系统调用，每次读取并输出一个字符，不使用任何缓冲区。\n",
    "4. 使用`hpyerfine`测量`mycat1`和`cat`运行时间（`mycat1`的运行时间可能会非常长）\n",
    "5. 虽然这是一个很简单的程序，但是请仍然保持系统编程的规范。请在你的代码中进行进行所有必要的错误处理。\n",
    "\n",
    "这个任务不需要在文档中包含任何内容。"
   ]
  },
  {
   "cell_type": "code",
   "execution_count": null,
   "id": "124223b9",
   "metadata": {},
   "outputs": [
    {
     "name": "stderr",
     "output_type": "stream",
     "text": [
      "\u0000/e\u0001c \u0000l\u0000o\u0000c\u0000a\u0000l\u0000h\u0000o\u0000s\u0000t\u0000 \u0000�N\u0006t\u00020\u0000t\u0000 \u0000�N\u0006tM�n\f�FO*g\\��P0R \u0000W\u0000S\u0000L\u0000\u00020N\u0000A\u0000T\u0000 \u0000!j\u000f_\u000bN�v \u0000W\u0000S\u0000L\u0000 \u0000\n"
     ]
    },
    {
     "name": "stdout",
     "output_type": "stream",
     "text": [
      "Benchmark 1: ./target/mycat1 test.txt\n"
     ]
    }
   ],
   "source": [
    "%%bash\n",
    "hyperfine --warmup 3 --runs 1 './target/mycat1 test.txt'"
   ]
  },
  {
   "cell_type": "markdown",
   "id": "7105038c",
   "metadata": {},
   "source": [
    "## 任务2: 带有缓冲区的cat\n",
    "\n",
    "如果你正确完成了上面的任务，你会发现，`mycat1`的性能和系统中的`cat`的性能相差甚远。但是经过了ics课程的学习，你肯定已经想到了至少一个解决方案——使用缓冲区。缓冲区可以有效减少反复进行系统调用的性能消耗。但是，我们要面临的第二个问题是：缓冲区的大小应该如何设置呢？我们接下来将一步一步地探索这个问题。\n",
    "\n",
    "我们之前肯定也已经讲过不少涉及IO缓冲区的程序了，它们的缓冲区大小都被设置为多少呢？我相信1024, 4096, 8192一定是比较常见的几个数字。经过ics的学习，我相信你们肯定能说出原因了。那么，这个任务，我们将根据这个原理优化我们的`mycat1`。你至少需要完成下面要求：\n",
    "1. 复制你上一个任务的源代码在上面做修改，并把源代码命名为`mycat2.c`/`mycat2.rs`，可执行二进制文件命名为`mycat2`。\n",
    "2. 写一个`io_blocksize`函数用于确定你的缓冲区的大小，在这个任务中，你可以将缓冲区设置成你当前系统中一个内存页的大小。（注意：你不能假设所有系统中内存页的大小都是4K，请你使用一个系统调用或者标准库中的函数来获取内存页的大小，而不要使用一个固定值。不过允许你使用一个固定值，如果获取内存页发生错误，但是这不应该是一个常见的情况）。\n",
    "3. 使用标准库提供的函数动态分配用于缓冲区的内存。\n",
    "4. 使用`hpyerfine`测量`mycat2`的运行时间\n",
    "5. 请保持系统编程的基本规范。\n",
    "\n",
    "这个任务不需要在文档中包含任何内容。"
   ]
  },
  {
   "cell_type": "code",
   "execution_count": 1,
   "id": "ac23d60f",
   "metadata": {},
   "outputs": [
    {
     "name": "stderr",
     "output_type": "stream",
     "text": [
      "\u0000/e\u0001c \u0000l\u0000o\u0000c\u0000a\u0000l\u0000h\u0000o\u0000s\u0000t\u0000 \u0000�N\u0006t\u00020\u0000t\u0000 \u0000�N\u0006tM�n\f�FO*g\\��P0R \u0000W\u0000S\u0000L\u0000\u00020N\u0000A\u0000T\u0000 \u0000!j\u000f_\u000bN�v \u0000W\u0000S\u0000L\u0000 \u0000\n"
     ]
    },
    {
     "name": "stdout",
     "output_type": "stream",
     "text": [
      "Benchmark 1: ./target/mycat2 test.txt \n",
      "  Time (mean ± σ):     42.754 s ±  6.928 s    [User: 0.035 s, System: 1.348 s]\n",
      "  Range (min … max):   31.774 s … 54.191 s    10 runs\n",
      " \n"
     ]
    },
    {
     "name": "stderr",
     "output_type": "stream",
     "text": [
      "\u0000"
     ]
    }
   ],
   "source": [
    "%%bash\n",
    "hyperfine --warmup 3 './target/mycat2 test.txt '"
   ]
  },
  {
   "cell_type": "markdown",
   "id": "c5630499",
   "metadata": {},
   "source": [
    "## 任务3: 缓冲区对齐的cat\n",
    "\n",
    "如果你正确完成了上面这个任务，你会发现，添加了缓冲区的`mycat2`性能提升十分显著。但是我们还可以进一步优化。实际上只是添加了缓冲区并且设置缓冲区的大小为内存页的整数倍并不是没有什么太多的意义，这样的设置只是为了这个一个任务做铺垫的。在这个任务中，我们将尝试将我们的缓冲区对齐到系统的内存页。至于为什么要这么做，请大家在自己的文档中分析一下。你至少需要完成以下要求：\n",
    "1. 复制你上一个任务的源代码在上面做修改，并把源代码命名为`mycat3.c`/`mycat3.rs`，可执行二进制文件命名为`mycat3`。\n",
    "2. 写两个函数`char* align_alloc(size_t size)`和`void align_free(void* ptr)`，它们的作用分别是分配一段内存，长度不小于`size`并且返回一个对齐到内存页起始的指针`ptr`，以及给出一个先前从`align_alloc`返回的指针并释放之前分配的内存。\n",
    "3. 利用这两个函数修改你的代码，缓冲区的大小仍然设置成一个内存页的大小。\n",
    "4. 使用`hpyerfine`测量`mycat3`的运行时间\n",
    "5. 请保持系统编程的基本规范。\n",
    "\n",
    "这个任务，你需要在文档中回答以下问题：\n",
    "1. 为什么将缓冲区对齐到系统的内存可能提高性能？你的实验结果支持这个猜想吗？为什么？\n",
    "2. 为什么我们直接使用`malloc`函数分配的内存不能对齐到内存页，即使我们分配的内存大小已经是内存页大小的整数倍了。\n",
    "3. 你是怎么在不知道原始的malloc返回的指针的情况下正确释放内存的？"
   ]
  },
  {
   "cell_type": "code",
   "execution_count": 1,
   "id": "cc9a08fd",
   "metadata": {},
   "outputs": [
    {
     "name": "stderr",
     "output_type": "stream",
     "text": [
      "\u0000/e\u0001c \u0000l\u0000o\u0000c\u0000a\u0000l\u0000h\u0000o\u0000s\u0000t\u0000 \u0000�N\u0006t\u00020\u0000t\u0000 \u0000�N\u0006tM�n\f�FO*g\\��P0R \u0000W\u0000S\u0000L\u0000\u00020N\u0000A\u0000T\u0000 \u0000!j\u000f_\u000bN�v \u0000W\u0000S\u0000L\u0000 \u0000\n"
     ]
    },
    {
     "name": "stdout",
     "output_type": "stream",
     "text": [
      "Benchmark 1: ./target/mycat3 test.txt\n",
      "  Time (mean ± σ):     32.089 s ±  3.532 s    [User: 0.030 s, System: 1.257 s]\n",
      "  Range (min … max):   28.582 s … 39.462 s    10 runs\n",
      " \n"
     ]
    },
    {
     "name": "stderr",
     "output_type": "stream",
     "text": [
      "\u0000"
     ]
    }
   ],
   "source": [
    "%%bash\n",
    "hyperfine --warmup 3 './target/mycat3 test.txt'"
   ]
  },
  {
   "cell_type": "markdown",
   "id": "45070667",
   "metadata": {},
   "source": [
    "## 任务4: 设置缓冲区大小为文件系统块大小的整数倍的cat\n",
    "\n",
    "由于`cat`是涉及文件操作的，所以我们自然不能离开磁盘操作。我们在课内已经学到过，磁盘操作的基本单位是块。并且因为我们操作磁盘是经过了操作系统的一层抽象的，操作系统的文件系统也定义了一个操作文件的基本单位块，这个块的大小和磁盘的块的大小相关，但不总是相同。因此我们操作文件的时候实际接触到的块大小是文件系统的块大小。如果我们每次读取和写入文件的时候都按照文件系统的块大小来进行，也能提升性能。在这个任务中，你至少需要完成以下要求：\n",
    "1. 复制你上一个任务的源代码在上面做修改，并把源代码命名为`mycat4.c`/`mycat4.rs`，可执行二进制文件命名为`mycat4`。\n",
    "2. 修改你的函数`io_blocksize`，让你的缓冲区大小既考虑到内存页大小也考虑到文件系统的块大小。\n",
    "3. 使用`hyperfine`测量`mycat4`的运行时间。\n",
    "4. 保持系统编程的基本规范。\n",
    "\n",
    "> 在完成这项任务的时候你需要注意以下几点：\n",
    "> 1. 文件系统中的每个文件，块大小不总是相同的。\n",
    "> 2. 有的文件系统可能会给出虚假的块大小，这种虚假的文件块大小可能根本不是2的整数次幂。\n",
    "\n",
    "这个任务，你需要在文档中回答以下问题：\n",
    "1. 为什么在设置缓冲区大小的时候需要考虑到文件系统块的大小的问题？\n",
    "2. 对于上面提到的两个注意事项你是怎么解决的？"
   ]
  },
  {
   "cell_type": "code",
   "execution_count": 2,
   "id": "b1c29621",
   "metadata": {},
   "outputs": [
    {
     "name": "stderr",
     "output_type": "stream",
     "text": [
      "\u0000/e\u0001c \u0000l\u0000o\u0000c\u0000a\u0000l\u0000h\u0000o\u0000s\u0000t\u0000 \u0000�N\u0006t\u00020\u0000t\u0000 \u0000�N\u0006tM�n\f�FO*g\\��P0R \u0000W\u0000S\u0000L\u0000\u00020N\u0000A\u0000T\u0000 \u0000!j\u000f_\u000bN�v \u0000W\u0000S\u0000L\u0000 \u0000\n"
     ]
    },
    {
     "name": "stdout",
     "output_type": "stream",
     "text": [
      "Benchmark 1: ./target/mycat4 test.txt\n",
      "  Time (mean ± σ):     39.245 s ±  5.066 s    [User: 0.024 s, System: 1.061 s]\n",
      "  Range (min … max):   33.066 s … 50.871 s    10 runs\n",
      " \n"
     ]
    },
    {
     "name": "stderr",
     "output_type": "stream",
     "text": [
      "\u0000"
     ]
    }
   ],
   "source": [
    "%%bash\n",
    "hyperfine --warmup 3 './target/mycat4 test.txt'"
   ]
  },
  {
   "cell_type": "markdown",
   "id": "442bbd60",
   "metadata": {},
   "source": [
    "## 任务5: 考虑系统调用开销情况下的cat\n",
    "\n",
    "如果你正确完成了上面的任务，那么现在你的`cat`已经可以综合考虑内存页大小，内存页对齐和文件系统块大小的因素来设置缓冲区大小了。但是我们会发现，我们自己的`cat`性能仍然不如我们系统中的`cat`。并且如果你尝试过再进一步增大缓冲区的大小，你的`cat`性能还能更高。这是因为我们目前设置的缓冲区大小还不足以掩盖系统调用带来的开销。那么，我们的缓冲区究竟应该设置到什么大小才够呢？其实这个问题，我们仅仅使用理论分析是无法给出答案的，因为答案受到机器的硬件条件，操作系统的涉及等多重不确定因素的影响。但是，我们可以使用实验来解答这个问题。最后，我们还需要做出假设，不考虑上一个任务的注意事项1，也就是我们假设我们文件系统的大部分文件的块大小都一致（你可以使用我们的测试文件的块大小）。因此，设我们在之前的任务中设置的缓冲区大小是buf_size，我们需要通过实验找到一个倍数A，满足以下条件：\n",
    "1. 当缓冲区大小小于A * buf_size的时候，文件的读写速度显著减小\n",
    "2. 当缓冲区大小大于A * buf_size的时候，文件的读写速度并不显著提升\n",
    "最终，我们就可以直接设置我们的`cat`中的缓冲区大小设置成buf_size的固定倍率。在这个任务中，你只少需要完成以下要求：\n",
    "1. 编写一个实验脚本，尽量排除其他因素的影响，测量只在系统调用开销的影响下，你的系统最合适的缓冲区大小。并且给出这个大小下你的系统的读写速率。\n",
    "2. 复制你上一个任务的源代码在上面做修改，并把源代码命名为`mycat5.c`/`mycat5.rs`，可执行二进制文件命名为`mycat5`。\n",
    "3. 利用上面的实验结果，修改你的函数`io_blocksize`。\n",
    "4. 使用`hyperfine`测量`mycat5`的运行时间。\n",
    "5. 保持系统编程的基本规范。\n",
    "\n",
    "> 提示：\n",
    "> 1. `dd`命令可以用于复制一个文件(也就是读取并写入)，你可以使用命令行参数设置它的缓冲区大小，并且程序终止的时候可以报告平均文件读写速度。\n",
    "> 2. Linux系统中存在`/dev`文件系统，这个目录下有很多特殊文件，其中有一些对你来说可能有用。`/dev/null`，你向这个文件写入的内容并不真正写入磁盘，并且不会对你的系统造成任何影响。`/dev/zero`，如果你尝试读取这个文件你会得到源源不断的`\\0x0`，这个文件也并不真正的从磁盘中读取。\n",
    "\n",
    "这个任务，你需要在文档中包括以下内容：\n",
    "1. 解释一下你的实验脚本是怎么设计的。你应该尝试了多种倍率，请将它们的读写速率画成图表包含在文档中。"
   ]
  },
  {
   "cell_type": "code",
   "execution_count": null,
   "id": "9a720e79",
   "metadata": {},
   "outputs": [],
   "source": [
    "# 请在这里填入你的测试脚本\n",
    "%%bash\n",
    "\n",
    "set -euo pipefail\n",
    "\n",
    "if [ $# -ne 1 ]; then\n",
    "  echo \"Usage: $0 <base_buf_size_in_bytes>\"\n",
    "  exit 1\n",
    "fi\n",
    "\n",
    "BASE=$1\n",
    "OUT=io_scaling.csv\n",
    "echo \"k,buf_bytes,MiB_per_s\" > \"$OUT\"\n",
    "\n",
    "# 倍数列表——根据需要可增删\n",
    "MULTS=(1 2 4 8 16 32 64 128 256)\n",
    "\n",
    "for k in \"${MULTS[@]}\"; do\n",
    "  buf=$(( BASE * k ))\n",
    "\n",
    "  # 复制总量固定为 2 GiB，计算 dd 的 count\n",
    "  total=$(( 2 * 1024 * 1024 * 1024 ))        # 2 GiB\n",
    "  count=$(( total / buf ))\n",
    "\n",
    "  # hyperfine 基准；--export-json 便于解析平均耗时\n",
    "  hyperfine --warmup 1 --runs 5 \\\n",
    "    \"dd if=/dev/zero of=/dev/null bs=$buf count=$count status=none\" \\\n",
    "    --export-json hf.json --style none 1>/dev/null\n",
    "\n",
    "  mean=$(jq -r '.results[0].statistics.mean' hf.json)   # 秒\n",
    "  mib=$(( total / 1048576 ))                            # 2 GiB = 2048 MiB\n",
    "  rate=$(awk \"BEGIN {printf \\\"%.2f\\\", $mib / $mean}\")\n",
    "\n",
    "  echo \"$k,$buf,$rate\" | tee -a \"$OUT\"\n",
    "done\n",
    "\n",
    "rm -f hf.json\n",
    "echo \"结果已写入 $OUT\"\n"
   ]
  },
  {
   "cell_type": "code",
   "execution_count": 6,
   "id": "fefb5fdb",
   "metadata": {},
   "outputs": [
    {
     "name": "stderr",
     "output_type": "stream",
     "text": [
      "\u0000/e\u0001c \u0000l\u0000o\u0000c\u0000a\u0000l\u0000h\u0000o\u0000s\u0000t\u0000 \u0000�N\u0006t\u00020\u0000t\u0000 \u0000�N\u0006tM�n\f�FO*g\\��P0R \u0000W\u0000S\u0000L\u0000\u00020N\u0000A\u0000T\u0000 \u0000!j\u000f_\u000bN�v \u0000W\u0000S\u0000L\u0000 \u0000\n"
     ]
    },
    {
     "name": "stdout",
     "output_type": "stream",
     "text": [
      "Benchmark 1: ./target/mycat5 test.txt\n",
      "  Time (mean ± σ):     40.753 s ±  5.023 s    [User: 0.046 s, System: 1.451 s]\n",
      "  Range (min … max):   35.154 s … 48.925 s    10 runs\n",
      " \n"
     ]
    },
    {
     "name": "stderr",
     "output_type": "stream",
     "text": [
      "\u0000"
     ]
    }
   ],
   "source": [
    "%%bash\n",
    "hyperfine --warmup 3 './target/mycat5 test.txt'"
   ]
  },
  {
   "cell_type": "markdown",
   "id": "54bef4af",
   "metadata": {},
   "source": [
    "## 任务6: 使用了系统调用`fdadvice`的cat\n",
    "\n",
    "虽然几乎我们的这个lab都在讨论设置缓冲区大小的问题，但是实际上我们的系统中的`cat`还在其他很多方面做了不少优化。这些优化在多数时候和缓冲区相比都不起决定性作用，但是我们也可以从中学习到不少有趣的技巧。这里我们就只尝试其中一个，使用系统调用`fadvise`。这个系统调用可以提示文件系统我们将会以什么样的模式来读写文件，这样操作系统可以设置合适的readahead窗口为文件的读写做准备。在这个任务中，你需要完成以下要求：\n",
    "1. 复制你上一个任务的源代码在上面做修改，并把源代码命名为`mycat6.c`/`mycat6.rs`，可执行二进制文件命名为`mycat6`。\n",
    "2. 在你的代码中使用`fadvise`进行优化。\n",
    "3. 使用`hyperfine`测量`mycat6`的运行时间。\n",
    "4. 保持系统编程的基本规范。\n",
    "\n",
    "这个任务，你需要在文档中回答以下问题：\n",
    "1. 你是如何设置`fadvise`的参数的？\n",
    "2. 对于顺序读写的情况，文件系统可以如何调整readahead？对于随机读写的情况呢？"
   ]
  },
  {
   "cell_type": "code",
   "execution_count": 7,
   "id": "3aad1e29",
   "metadata": {},
   "outputs": [
    {
     "name": "stderr",
     "output_type": "stream",
     "text": [
      "\u0000/e\u0001c \u0000l\u0000o\u0000c\u0000a\u0000l\u0000h\u0000o\u0000s\u0000t\u0000 \u0000�N\u0006t\u00020\u0000t\u0000 \u0000�N\u0006tM�n\f�FO*g\\��P0R \u0000W\u0000S\u0000L\u0000\u00020N\u0000A\u0000T\u0000 \u0000!j\u000f_\u000bN�v \u0000W\u0000S\u0000L\u0000 \u0000\n"
     ]
    },
    {
     "name": "stdout",
     "output_type": "stream",
     "text": [
      "Benchmark 1: ./target/mycat6 test.txt\n",
      "  Time (mean ± σ):     48.456 s ±  3.713 s    [User: 0.049 s, System: 1.728 s]\n",
      "  Range (min … max):   41.900 s … 55.314 s    10 runs\n",
      " \n"
     ]
    },
    {
     "name": "stderr",
     "output_type": "stream",
     "text": [
      "\u0000"
     ]
    }
   ],
   "source": [
    "%%bash\n",
    "hyperfine --warmup 3 './target/mycat6 test.txt'"
   ]
  },
  {
   "cell_type": "markdown",
   "id": "2c605486",
   "metadata": {},
   "source": [
    "## 任务7: 总结\n",
    "\n",
    "经过了上面的所有任务，我们已经成功探索我们系统中最常用的工具`cat`所使用的各种优化。我相信你对涉及系统IO的编程也有了更深刻的理解。现在请你整理汇总上面每个任务你所写的`mycatx`以及系统的`cat`的测量数据，使用一个柱状图来展示。并且请你分析一下你得到的结果：它们符合你的预期吗？为什么？这个结果给你带来了什么启示？\n",
    "\n",
    "这个任务，你需要在文档中包含以下内容：\n",
    "1. 你的全部实验结果的柱状图。\n",
    "2. 你对上述实验结果的分析。"
   ]
  },
  {
   "cell_type": "code",
   "execution_count": null,
   "id": "4e293a45",
   "metadata": {},
   "outputs": [
    {
     "data": {
      "image/png": "[encoded data removed]",
      "text/plain": [
       "<Figure size 640x480 with 1 Axes>"
      ]
     },
     "metadata": {},
     "output_type": "display_data"
    }
   ],
   "source": [
    "# 这里填入你用于画图的python代码\n",
    "import matplotlib.pyplot as plt\n",
    "\n",
    "# 配置支持中文的字体，需确保系统中已安装对应字体\n",
    "plt.rcParams['font.sans-serif'] = ['SimHei']       # Windows 上常见“黑体”\n",
    "# plt.rcParams['font.sans-serif'] = ['Microsoft YaHei']  # 或者“微软雅黑”\n",
    "# plt.rcParams['font.sans-serif'] = ['STSong']     # macOS 下的“华文宋体”\n",
    "plt.rcParams['axes.unicode_minus'] = False        # 正确显示负号\n",
    "\n",
    "# 程序名称与对应执行时间（秒）\n",
    "programs = [\"cat\", \"mycat2\", \"mycat3\", \"mycat4\", \"mycat5\", \"mycat6\"]\n",
    "times =    [25.985, 42.754,    32.089,      39.245,      40.753,      48.456,]\n",
    "\n",
    "plt.figure()\n",
    "plt.bar(programs, times)\n",
    "plt.xlabel(\"程序\")\n",
    "plt.ylabel(\"执行时间 (秒)\")\n",
    "plt.title(\"cat与mycat2–6 性能对比 (2GB 测试文件)\")\n",
    "plt.tight_layout()\n",
    "plt.show()\n"
   ]
  }
 ],
 "metadata": {
  "kernelspec": {
   "display_name": "Python 3",
   "language": "python",
   "name": "python3"
  },
  "language_info": {
   "codemirror_mode": {
    "name": "ipython",
    "version": 3
   },
   "file_extension": ".py",
   "mimetype": "text/x-python",
   "name": "python",
   "nbconvert_exporter": "python",
   "pygments_lexer": "ipython3",
   "version": "3.12.1"
  }
 },
 "nbformat": 4,
 "nbformat_minor": 5
}
